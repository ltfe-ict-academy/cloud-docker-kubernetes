{
 "cells": [
  {
   "cell_type": "markdown",
   "metadata": {},
   "source": [
    "# Build secrets in Docker Compose, the secure way"
   ]
  },
  {
   "cell_type": "markdown",
   "metadata": {},
   "source": [
    "When you’re building a Docker image, you might need to use some secrets: the password to a private package repository, for example. You don’t want this secret to end up embedded in the image, because then anyone who somehow gets access to the image will get access to your private repository."
   ]
  },
  {
   "cell_type": "markdown",
   "metadata": {},
   "source": [
    "> Note: If you’re thinking “why not just use environment variables?”, those are used for runtime secrets once the image is built. This article is about build secrets, which are used while building the image via a Dockerfile."
   ]
  },
  {
   "cell_type": "markdown",
   "metadata": {},
   "source": [
    "Newer versions of Docker support secrets via the experimental BuildKit backend, and Docker Compose 1.25 and later can build images using BuildKit. Unfortunately, as of March 2020 the ability to pass in secrets securely from Compose is still stuck as a work in progress."
   ]
  },
  {
   "cell_type": "markdown",
   "metadata": {},
   "source": [
    "In this article I’ll demonstrate a technique that allows you use the same Dockerfile to both build production images securely with secrets, while still enabling easy development with Docker Compose."
   ]
  },
  {
   "cell_type": "markdown",
   "metadata": {},
   "source": [
    "## Two use cases for your Dockerfile"
   ]
  },
  {
   "cell_type": "markdown",
   "metadata": {},
   "source": [
    "It’s handy to use the same Dockerfile both for production use, and for local development with Docker Compose. Typically you’d use your Dockerfile with Compose’s build functionality:"
   ]
  },
  {
   "cell_type": "markdown",
   "metadata": {},
   "source": [
    "```yml\n",
    "version: \"3.7\"\n",
    "services:\n",
    "  yourapp:\n",
    "    build:\n",
    "      context: \".\"\n",
    "```"
   ]
  },
  {
   "cell_type": "markdown",
   "metadata": {},
   "source": [
    "You can then do:"
   ]
  },
  {
   "cell_type": "markdown",
   "metadata": {},
   "source": [
    "    docker-compose up"
   ]
  },
  {
   "cell_type": "markdown",
   "metadata": {},
   "source": [
    "And it will (re)build the image for you, and then run it.\n",
    "\n",
    "For production use, you build the image and then push it:"
   ]
  },
  {
   "cell_type": "markdown",
   "metadata": {},
   "source": [
    "    docker build -t myimage .\n",
    "    docker push myimage"
   ]
  },
  {
   "cell_type": "markdown",
   "metadata": {},
   "source": [
    "So far, so good. But what if you need to build with a secret of some sort?"
   ]
  },
  {
   "cell_type": "markdown",
   "metadata": {},
   "source": [
    "## A first, insecure attempt"
   ]
  },
  {
   "cell_type": "markdown",
   "metadata": {},
   "source": [
    "Let’s say we have a script that needs a build secret, for example to download a Python package from a private DevPI repository. For simplicity, we’ll just have our use-secret.sh script print the secret, to prove we have it:"
   ]
  },
  {
   "cell_type": "markdown",
   "metadata": {},
   "source": [
    "    #!/bin/bash\n",
    "    set -euo pipefail\n",
    "\n",
    "    echo \"Secret is: $THEPASSWORD\""
   ]
  },
  {
   "cell_type": "markdown",
   "metadata": {},
   "source": [
    "The naive way to pass in secrets is using Docker build args, since they’re supported everywhere, including Docker Compose."
   ]
  },
  {
   "cell_type": "markdown",
   "metadata": {},
   "source": [
    "```Dockerfile\n",
    "FROM python:3.8-slim-buster\n",
    "# Using ARG for build secrets is INSECURE!\n",
    "ARG THEPASSWORD\n",
    "COPY use-secret.sh .\n",
    "RUN ./use-secret.sh\n",
    "```"
   ]
  },
  {
   "cell_type": "markdown",
   "metadata": {},
   "source": [
    "We can write a docker-compose.yml that passes in the secret:"
   ]
  },
  {
   "cell_type": "markdown",
   "metadata": {},
   "source": [
    "```yml\n",
    "version: \"3.7\"\n",
    "services:\n",
    "  yourapp:\n",
    "    build:\n",
    "      context: \".\"\n",
    "      args:\n",
    "        THEPASSWORD: \"s3kr!t\"\n",
    "```"
   ]
  },
  {
   "cell_type": "markdown",
   "metadata": {},
   "source": [
    "For local development we can run or build the image via Compose:"
   ]
  },
  {
   "cell_type": "markdown",
   "metadata": {},
   "source": [
    "    docker-compose build | grep Secret"
   ]
  },
  {
   "cell_type": "markdown",
   "metadata": {},
   "source": [
    "And that’s fine.\n",
    "\n",
    "We can also build the image using Docker, as preparation for pushing it to an image registry:"
   ]
  },
  {
   "cell_type": "markdown",
   "metadata": {},
   "source": [
    "    docker build -t myimage --build-arg THEPASSWORD=s3krit . | grep Secret"
   ]
  },
  {
   "cell_type": "markdown",
   "metadata": {},
   "source": [
    "This is insecure: don’t ever do this. If we inspect the image layers, we’ll see that the secret has been embedded into the image!"
   ]
  },
  {
   "cell_type": "markdown",
   "metadata": {},
   "source": [
    "    docker history myimage"
   ]
  },
  {
   "cell_type": "markdown",
   "metadata": {},
   "source": [
    "Anyone who gets access to this image will know your password! What to do?"
   ]
  },
  {
   "cell_type": "markdown",
   "metadata": {},
   "source": [
    "## BuildKit secrets, a partial solution"
   ]
  },
  {
   "cell_type": "markdown",
   "metadata": {},
   "source": [
    "https://docs.docker.com/develop/develop-images/build_enhancements/"
   ]
  },
  {
   "cell_type": "markdown",
   "metadata": {},
   "source": [
    "BuildKit is a new—and still experimental—implementation of Docker image building, which among other things adds support for securely using build secrets. And Docker Compose has experimental support for using BuildKit as of v1.25."
   ]
  },
  {
   "cell_type": "markdown",
   "metadata": {},
   "source": [
    "But there’s a problem: Docker Compose doesn’t yet support the secrets feature in BuildKit. There’s an in-progress PR, but as of March 2020 it hasn’t been merged, let alone released.\n",
    "\n",
    "So what we’re going to do is combine the two approaches:\n",
    "1. Docker Compose will continue to use build args to pass in secrets.\n",
    "2. For the production image, built with docker build, we’ll use BuildKit to pass in secrets.\n",
    "\n",
    "This will allow us to use the same Dockerfile for both local development and for our final production image."
   ]
  },
  {
   "cell_type": "markdown",
   "metadata": {},
   "source": [
    "## The combo approach"
   ]
  },
  {
   "cell_type": "markdown",
   "metadata": {},
   "source": [
    "The way BuildKit secrets work is that a file with the secret gets mounted to a temporary location during the RUN command, e.g. /var/secrets/thepassword. Since it’s only mounted during a particular RUN command being run, it doesn’t end up embedded in the final image.\n",
    "\n"
   ]
  },
  {
   "cell_type": "markdown",
   "metadata": {},
   "source": [
    "We modify use_secret.sh so that it checks if that file exists. If it does, it uses it to set the `$THEPASSWORD` environment variable; if the file doesn’t exist, we fall back to the environment variable. That means $THEPASSWORD can be set either by BuildKit secrets or via a build arg:"
   ]
  },
  {
   "cell_type": "markdown",
   "metadata": {},
   "source": [
    "```shell\n",
    "#!/bin/bash\n",
    "set -euo pipefail\n",
    "if [ -f /run/secrets/thepassword ]; then\n",
    "   export THEPASSWORD=$(cat /run/secrets/thepassword)\n",
    "fi\n",
    "\n",
    "echo \"Secret is: $THEPASSWORD\"\n",
    "```"
   ]
  },
  {
   "cell_type": "markdown",
   "metadata": {},
   "source": [
    "Next, we modify the Dockerfile to enable BuildKit and mount the secret:"
   ]
  },
  {
   "cell_type": "markdown",
   "metadata": {},
   "source": [
    "```Dockerfile\n",
    "# syntax = docker/dockerfile:1.0-experimental\n",
    "FROM python:3.8-slim-buster\n",
    "# Only use the build arg for local development:\n",
    "ARG THEPASSWORD\n",
    "COPY use-secret.sh .\n",
    "# Mount the secret to /run/secrets:\n",
    "RUN --mount=type=secret,id=thepassword ./use-secret.sh\n",
    "```"
   ]
  },
  {
   "cell_type": "markdown",
   "metadata": {},
   "source": [
    "The docker-compose.yml file remains unchanged."
   ]
  },
  {
   "cell_type": "markdown",
   "metadata": {},
   "source": [
    "Now we need to set two environment variables, one to tell Docker to use BuildKit, one to tell Compose to use the CLI version of Docker and therefore BuildKit. We also write the secret to a file:"
   ]
  },
  {
   "cell_type": "markdown",
   "metadata": {},
   "source": [
    "    $ export DOCKER_BUILDKIT=1\n",
    "    $ export COMPOSE_DOCKER_CLI_BUILD=1\n",
    "    $ echo 's3krit' > /tmp/mypassword"
   ]
  },
  {
   "cell_type": "markdown",
   "metadata": {},
   "source": [
    "With Compose, the build arg is used:"
   ]
  },
  {
   "cell_type": "markdown",
   "metadata": {},
   "source": [
    "    docker-compose build --progress=plain \\\n",
    "        --no-cache 2>&1 | grep Secret"
   ]
  },
  {
   "cell_type": "markdown",
   "metadata": {},
   "source": [
    "Note that the --no-cache is just to ensure it actually rebuilds, in case you’ve run all the above yourself; in real usage you can omit it. The 2>&1 redirects stderr to stdout for easier grepping."
   ]
  },
  {
   "cell_type": "markdown",
   "metadata": {},
   "source": [
    "When we’re ready to build for production use, we use docker build with the BuildKit secrets feature:"
   ]
  },
  {
   "cell_type": "markdown",
   "metadata": {},
   "source": [
    "    docker build --no-cache -t myimage \\\n",
    "        --secret id=thepassword,src=/tmp/mypassword \\\n",
    "        --progress=plain . 2>&1 | grep Secret"
   ]
  },
  {
   "cell_type": "markdown",
   "metadata": {},
   "source": [
    "## Is it secure?"
   ]
  },
  {
   "cell_type": "markdown",
   "metadata": {},
   "source": [
    "Let’s make sure our secret wasn’t leaked:\n",
    "\n"
   ]
  },
  {
   "cell_type": "markdown",
   "metadata": {},
   "source": [
    "    docker history myimage"
   ]
  },
  {
   "cell_type": "markdown",
   "metadata": {},
   "source": [
    "Success! We passed in the secret to the same Dockerfile using both Compose and docker build, and in the latter case we didn’t leak the build secret."
   ]
  }
 ],
 "metadata": {
  "kernelspec": {
   "display_name": "Python 3",
   "language": "python",
   "name": "python3"
  },
  "language_info": {
   "codemirror_mode": {
    "name": "ipython",
    "version": 3
   },
   "file_extension": ".py",
   "mimetype": "text/x-python",
   "name": "python",
   "nbconvert_exporter": "python",
   "pygments_lexer": "ipython3",
   "version": "3.7.3"
  }
 },
 "nbformat": 4,
 "nbformat_minor": 2
}
